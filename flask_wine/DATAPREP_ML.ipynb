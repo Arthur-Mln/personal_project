{
 "cells": [
  {
   "cell_type": "markdown",
   "metadata": {},
   "source": [
    "# Import Python Librairies"
   ]
  },
  {
   "cell_type": "code",
   "execution_count": 1,
   "metadata": {
    "ExecuteTime": {
     "end_time": "2020-11-06T10:51:33.198337Z",
     "start_time": "2020-11-06T10:51:31.684415Z"
    }
   },
   "outputs": [],
   "source": [
    "import os\n",
    "from random import sample\n",
    "\n",
    "import pandas as pd\n",
    "import numpy as np\n",
    "import matplotlib.pyplot as plt\n",
    "import seaborn as sns"
   ]
  },
  {
   "cell_type": "code",
   "execution_count": 2,
   "metadata": {
    "ExecuteTime": {
     "end_time": "2020-11-06T10:51:33.312696Z",
     "start_time": "2020-11-06T10:51:33.200803Z"
    }
   },
   "outputs": [],
   "source": [
    "from sklearn.model_selection import train_test_split\n",
    "\n",
    "from sklearn.pipeline import Pipeline\n",
    "from sklearn.compose import ColumnTransformer\n",
    "from sklearn.preprocessing import OneHotEncoder, StandardScaler\n",
    "from sklearn.impute import SimpleImputer"
   ]
  },
  {
   "cell_type": "code",
   "execution_count": null,
   "metadata": {},
   "outputs": [],
   "source": []
  },
  {
   "cell_type": "markdown",
   "metadata": {},
   "source": [
    "# Import Data"
   ]
  },
  {
   "cell_type": "code",
   "execution_count": 3,
   "metadata": {
    "ExecuteTime": {
     "end_time": "2020-11-06T10:51:33.319054Z",
     "start_time": "2020-11-06T10:51:33.315382Z"
    }
   },
   "outputs": [],
   "source": [
    "def open_file(data_filename):\n",
    "    current_file = !pwd\n",
    "    filepath = os.path.join(current_file[0],data_filename)\n",
    "    return pd.read_csv(filepath)"
   ]
  },
  {
   "cell_type": "code",
   "execution_count": 4,
   "metadata": {
    "ExecuteTime": {
     "end_time": "2020-11-06T10:51:34.072690Z",
     "start_time": "2020-11-06T10:51:33.322082Z"
    }
   },
   "outputs": [],
   "source": [
    "# work on French wine \n",
    "\n",
    "df = open_file(\"data/winemag-data-130k-v2.csv\")\n",
    "df = df.loc[df[\"country\"] == \"France\"].reset_index()\n",
    "df = df[['price', 'province', 'variety', 'winery', 'region_1', 'points']]"
   ]
  },
  {
   "cell_type": "markdown",
   "metadata": {},
   "source": [
    "# Data Preparation"
   ]
  },
  {
   "cell_type": "markdown",
   "metadata": {
    "ExecuteTime": {
     "end_time": "2020-09-14T14:45:29.890671Z",
     "start_time": "2020-09-14T14:45:29.887003Z"
    }
   },
   "source": [
    "## Quick EDA"
   ]
  },
  {
   "cell_type": "code",
   "execution_count": 5,
   "metadata": {
    "ExecuteTime": {
     "end_time": "2020-11-06T10:51:34.090074Z",
     "start_time": "2020-11-06T10:51:34.075362Z"
    }
   },
   "outputs": [
    {
     "data": {
      "text/html": [
       "<div>\n",
       "<style scoped>\n",
       "    .dataframe tbody tr th:only-of-type {\n",
       "        vertical-align: middle;\n",
       "    }\n",
       "\n",
       "    .dataframe tbody tr th {\n",
       "        vertical-align: top;\n",
       "    }\n",
       "\n",
       "    .dataframe thead th {\n",
       "        text-align: right;\n",
       "    }\n",
       "</style>\n",
       "<table border=\"1\" class=\"dataframe\">\n",
       "  <thead>\n",
       "    <tr style=\"text-align: right;\">\n",
       "      <th></th>\n",
       "      <th>price</th>\n",
       "      <th>province</th>\n",
       "      <th>variety</th>\n",
       "      <th>winery</th>\n",
       "      <th>region_1</th>\n",
       "      <th>points</th>\n",
       "    </tr>\n",
       "  </thead>\n",
       "  <tbody>\n",
       "    <tr>\n",
       "      <th>0</th>\n",
       "      <td>24.0</td>\n",
       "      <td>Alsace</td>\n",
       "      <td>Gewürztraminer</td>\n",
       "      <td>Trimbach</td>\n",
       "      <td>Alsace</td>\n",
       "      <td>87</td>\n",
       "    </tr>\n",
       "    <tr>\n",
       "      <th>1</th>\n",
       "      <td>27.0</td>\n",
       "      <td>Alsace</td>\n",
       "      <td>Pinot Gris</td>\n",
       "      <td>Jean-Baptiste Adam</td>\n",
       "      <td>Alsace</td>\n",
       "      <td>87</td>\n",
       "    </tr>\n",
       "    <tr>\n",
       "      <th>2</th>\n",
       "      <td>30.0</td>\n",
       "      <td>Alsace</td>\n",
       "      <td>Gewürztraminer</td>\n",
       "      <td>Leon Beyer</td>\n",
       "      <td>Alsace</td>\n",
       "      <td>87</td>\n",
       "    </tr>\n",
       "    <tr>\n",
       "      <th>3</th>\n",
       "      <td>NaN</td>\n",
       "      <td>Beaujolais</td>\n",
       "      <td>Gamay</td>\n",
       "      <td>Domaine de la Madone</td>\n",
       "      <td>Beaujolais-Villages</td>\n",
       "      <td>86</td>\n",
       "    </tr>\n",
       "    <tr>\n",
       "      <th>4</th>\n",
       "      <td>9.0</td>\n",
       "      <td>Beaujolais</td>\n",
       "      <td>Gamay</td>\n",
       "      <td>Henry Fessy</td>\n",
       "      <td>Beaujolais</td>\n",
       "      <td>86</td>\n",
       "    </tr>\n",
       "  </tbody>\n",
       "</table>\n",
       "</div>"
      ],
      "text/plain": [
       "   price    province         variety                winery  \\\n",
       "0   24.0      Alsace  Gewürztraminer              Trimbach   \n",
       "1   27.0      Alsace      Pinot Gris    Jean-Baptiste Adam   \n",
       "2   30.0      Alsace  Gewürztraminer            Leon Beyer   \n",
       "3    NaN  Beaujolais           Gamay  Domaine de la Madone   \n",
       "4    9.0  Beaujolais           Gamay           Henry Fessy   \n",
       "\n",
       "              region_1  points  \n",
       "0               Alsace      87  \n",
       "1               Alsace      87  \n",
       "2               Alsace      87  \n",
       "3  Beaujolais-Villages      86  \n",
       "4           Beaujolais      86  "
      ]
     },
     "execution_count": 5,
     "metadata": {},
     "output_type": "execute_result"
    }
   ],
   "source": [
    "df.head()"
   ]
  },
  {
   "cell_type": "code",
   "execution_count": 6,
   "metadata": {
    "ExecuteTime": {
     "end_time": "2020-11-06T10:51:34.102918Z",
     "start_time": "2020-11-06T10:51:34.092113Z"
    }
   },
   "outputs": [
    {
     "name": "stdout",
     "output_type": "stream",
     "text": [
      "<class 'pandas.core.frame.DataFrame'>\n",
      "RangeIndex: 22093 entries, 0 to 22092\n",
      "Data columns (total 6 columns):\n",
      " #   Column    Non-Null Count  Dtype  \n",
      "---  ------    --------------  -----  \n",
      " 0   price     17776 non-null  float64\n",
      " 1   province  22093 non-null  object \n",
      " 2   variety   22093 non-null  object \n",
      " 3   winery    22093 non-null  object \n",
      " 4   region_1  22017 non-null  object \n",
      " 5   points    22093 non-null  int64  \n",
      "dtypes: float64(1), int64(1), object(4)\n",
      "memory usage: 1.0+ MB\n",
      "None\n"
     ]
    }
   ],
   "source": [
    "print(df.info())"
   ]
  },
  {
   "cell_type": "code",
   "execution_count": 7,
   "metadata": {
    "ExecuteTime": {
     "end_time": "2020-11-06T10:51:34.135156Z",
     "start_time": "2020-11-06T10:51:34.104931Z"
    }
   },
   "outputs": [
    {
     "name": "stdout",
     "output_type": "stream",
     "text": [
      "Column :  0  -  price\n",
      "\n",
      "20.0     1181\n",
      "15.0     1110\n",
      "25.0      897\n",
      "18.0      704\n",
      "13.0      674\n",
      "         ... \n",
      "156.0       1\n",
      "158.0       1\n",
      "265.0       1\n",
      "468.0       1\n",
      "319.0       1\n",
      "Name: price, Length: 322, dtype: int64\n",
      "----------------------------------------------------------------------------------------------------\n",
      "Column :  1  -  province\n",
      "\n",
      "Bordeaux                5941\n",
      "Burgundy                3980\n",
      "Alsace                  2440\n",
      "Loire Valley            1856\n",
      "Champagne               1613\n",
      "Southwest France        1503\n",
      "Provence                1346\n",
      "Rhône Valley            1081\n",
      "Beaujolais              1044\n",
      "France Other             676\n",
      "Languedoc-Roussillon     613\n",
      "Name: province, dtype: int64\n",
      "----------------------------------------------------------------------------------------------------\n",
      "Column :  2  -  variety\n",
      "\n",
      "Bordeaux-style Red Blend    4725\n",
      "Chardonnay                  2808\n",
      "Pinot Noir                  1966\n",
      "Rosé                        1923\n",
      "Champagne Blend             1243\n",
      "                            ... \n",
      "Merlot-Cabernet                1\n",
      "Carcajolu                      1\n",
      "Carignan-Grenache              1\n",
      "Grenache Noir                  1\n",
      "Ondenc                         1\n",
      "Name: variety, Length: 148, dtype: int64\n",
      "----------------------------------------------------------------------------------------------------\n",
      "Column :  3  -  winery\n",
      "\n",
      "Louis Latour                  199\n",
      "Georges Duboeuf               196\n",
      "Albert Bichot                 117\n",
      "Jean-Luc and Paul Aegerter    113\n",
      "Chanson Père et Fils          109\n",
      "                             ... \n",
      "Château Roc Taillade            1\n",
      "Marc Deschamps                  1\n",
      "Domaine Barcelo                 1\n",
      "Château Bel Air Moulard         1\n",
      "Domaine Roses Camille           1\n",
      "Name: winery, Length: 3864, dtype: int64\n",
      "----------------------------------------------------------------------------------------------------\n",
      "Column :  4  -  region_1\n",
      "\n",
      "Alsace                          2163\n",
      "Champagne                       1613\n",
      "Côtes de Provence                859\n",
      "Saint-Émilion                    561\n",
      "Chablis                          559\n",
      "                                ... \n",
      "Corton Perrières                   1\n",
      "Collioure                          1\n",
      "Coteaux du Languedoc-Pézenas       1\n",
      "Saussignac                         1\n",
      "Landes                             1\n",
      "Name: region_1, Length: 386, dtype: int64\n",
      "----------------------------------------------------------------------------------------------------\n",
      "Column :  5  -  points\n",
      "\n",
      "88     2898\n",
      "87     2594\n",
      "90     2538\n",
      "89     2129\n",
      "91     2030\n",
      "86     2024\n",
      "92     1710\n",
      "85     1709\n",
      "93     1393\n",
      "84     1088\n",
      "94      856\n",
      "95      413\n",
      "83      301\n",
      "96      145\n",
      "82      107\n",
      "97       70\n",
      "81       36\n",
      "98       21\n",
      "80       15\n",
      "100       8\n",
      "99        8\n",
      "Name: points, dtype: int64\n",
      "----------------------------------------------------------------------------------------------------\n"
     ]
    }
   ],
   "source": [
    "def counts_colums(df):\n",
    "    for index, elt in enumerate(df.columns):\n",
    "        print(\"Column : \",index,\" - \",elt)\n",
    "        print(\"\")\n",
    "        print(df[elt].value_counts())\n",
    "        print(\"-\"*100)\n",
    "        \n",
    "counts_colums(df)\n",
    "    "
   ]
  },
  {
   "cell_type": "code",
   "execution_count": 8,
   "metadata": {
    "ExecuteTime": {
     "end_time": "2020-11-06T10:51:34.160980Z",
     "start_time": "2020-11-06T10:51:34.138173Z"
    },
    "scrolled": true
   },
   "outputs": [
    {
     "data": {
      "text/plain": [
       "price        322\n",
       "province      11\n",
       "variety      148\n",
       "winery      3864\n",
       "region_1     386\n",
       "points        21\n",
       "dtype: int64"
      ]
     },
     "execution_count": 8,
     "metadata": {},
     "output_type": "execute_result"
    }
   ],
   "source": [
    "df.nunique()"
   ]
  },
  {
   "cell_type": "markdown",
   "metadata": {},
   "source": [
    "## Duplicated Lines"
   ]
  },
  {
   "cell_type": "code",
   "execution_count": 9,
   "metadata": {
    "ExecuteTime": {
     "end_time": "2020-11-06T10:51:34.193478Z",
     "start_time": "2020-11-06T10:51:34.163888Z"
    }
   },
   "outputs": [],
   "source": [
    "df.duplicated().sum()\n",
    "df = df.drop_duplicates()"
   ]
  },
  {
   "cell_type": "markdown",
   "metadata": {},
   "source": [
    "## Test / Train Set"
   ]
  },
  {
   "cell_type": "code",
   "execution_count": 10,
   "metadata": {
    "ExecuteTime": {
     "end_time": "2020-11-06T10:51:34.207353Z",
     "start_time": "2020-11-06T10:51:34.195435Z"
    }
   },
   "outputs": [],
   "source": [
    "X_train_init, X_test_init, y_train, y_test = train_test_split(df.drop('points', axis=1),\n",
    "                                                    df['points'],\n",
    "                                                    random_state=42,\n",
    "                                                    test_size=0.2)"
   ]
  },
  {
   "cell_type": "code",
   "execution_count": 11,
   "metadata": {
    "ExecuteTime": {
     "end_time": "2020-11-06T10:51:34.682856Z",
     "start_time": "2020-11-06T10:51:34.209687Z"
    }
   },
   "outputs": [
    {
     "data": {
      "image/png": "[encoded data removed]",
      "text/plain": [
       "<Figure size 1440x720 with 3 Axes>"
      ]
     },
     "metadata": {
      "needs_background": "light"
     },
     "output_type": "display_data"
    },
    {
     "data": {
      "text/plain": [
       "80      0.059316\n",
       "81      0.197720\n",
       "82      0.566796\n",
       "83      1.548804\n",
       "84      5.457062\n",
       "85      8.113096\n",
       "86      9.273051\n",
       "87     11.612733\n",
       "88     12.456337\n",
       "89      9.622355\n",
       "90     11.599552\n",
       "91      9.213735\n",
       "92      7.374942\n",
       "93      6.063402\n",
       "94      3.624860\n",
       "95      1.990378\n",
       "96      0.698609\n",
       "97      0.336123\n",
       "98      0.092269\n",
       "99      0.052725\n",
       "100     0.046135\n",
       "Name: points, dtype: float64"
      ]
     },
     "execution_count": 11,
     "metadata": {},
     "output_type": "execute_result"
    }
   ],
   "source": [
    "train_labels_serie = y_train.value_counts().sort_index()\n",
    "test_labels_serie = y_test.value_counts().sort_index()\n",
    "init_labels_serie = df['points'].value_counts().sort_index()\n",
    "\n",
    "\n",
    "plt.figure(figsize=(20,10))\n",
    "plt.subplot(1,3,1)\n",
    "plt.bar(x=train_labels_serie.index,\n",
    "        height=train_labels_serie)\n",
    "\n",
    "plt.subplot(1,3,2)\n",
    "plt.bar(x=test_labels_serie.index,\n",
    "        height=test_labels_serie)\n",
    "\n",
    "plt.subplot(1,3,3)\n",
    "plt.bar(x=init_labels_serie.index,\n",
    "        height=init_labels_serie)\n",
    "\n",
    "plt.show()\n",
    "\n",
    "(y_train.value_counts().sort_index() / len(y_train)) * 100"
   ]
  },
  {
   "cell_type": "code",
   "execution_count": 12,
   "metadata": {
    "ExecuteTime": {
     "end_time": "2020-11-06T10:51:34.691527Z",
     "start_time": "2020-11-06T10:51:34.684949Z"
    }
   },
   "outputs": [
    {
     "data": {
      "text/plain": [
       "80      0.059316\n",
       "81      0.197720\n",
       "82      0.566796\n",
       "83      1.548804\n",
       "84      5.457062\n",
       "85      8.113096\n",
       "86      9.273051\n",
       "87     11.612733\n",
       "88     12.456337\n",
       "89      9.622355\n",
       "90     11.599552\n",
       "91      9.213735\n",
       "92      7.374942\n",
       "93      6.063402\n",
       "94      3.624860\n",
       "95      1.990378\n",
       "96      0.698609\n",
       "97      0.336123\n",
       "98      0.092269\n",
       "99      0.052725\n",
       "100     0.046135\n",
       "Name: points, dtype: float64"
      ]
     },
     "execution_count": 12,
     "metadata": {},
     "output_type": "execute_result"
    }
   ],
   "source": [
    "(y_train.value_counts().sort_index() / len(y_train)) * 100"
   ]
  },
  {
   "cell_type": "markdown",
   "metadata": {},
   "source": [
    "## Pipelines"
   ]
  },
  {
   "cell_type": "markdown",
   "metadata": {
    "ExecuteTime": {
     "end_time": "2020-09-14T16:13:24.989740Z",
     "start_time": "2020-09-14T16:13:24.986445Z"
    }
   },
   "source": [
    "### Strategy for each column"
   ]
  },
  {
   "cell_type": "markdown",
   "metadata": {},
   "source": [
    "0) Column \"index\" \n",
    "    => DROP\n",
    "    \n",
    "1) Column \"Unname : 0\" \n",
    "    => DROP\n",
    "\n",
    "2) Column \"country\" \n",
    "    => Just \"France\" \n",
    "    => DROP\n",
    "\n",
    "3) Column \"description\" \n",
    "    => DROP IN A FIRST TIME (NLP analysis then)\n",
    "\n",
    "4) Column \"designation\"\n",
    "    => Wine Name\n",
    "    => DROP IN A FIRST TIME\n",
    "    \n",
    "5) Column \"points\"\n",
    "    => NUMERIC/CATEGORICAL\n",
    "    => TARGET / LABELS\n",
    "    \n",
    "6) Column \"price\" \n",
    "    => NUMERIC, NaN Replaced by median (25 vs 35 pour moy mais on s'affranchit des grandes valeurs)\n",
    "    \n",
    "7) Column \"province\"\n",
    "    => CATEGORICAL, no Nan\n",
    "\n",
    "8) Column \"region_1\" : \n",
    "    => If time : Deep Cleaning\n",
    "    => Replace NaN by \"unknown\" (already exists in the table)\n",
    "\n",
    "9) Column \"region_2\" \n",
    "    => Just Nan\n",
    "    => DROP\n",
    "\n",
    "10) Column \"taster_name\" : \n",
    "    => CATEGORICAL, Replace NaN by \"unknown\"\n",
    "\n",
    "11) Column \"taster_twitter_handle\" : \n",
    "    => REDUNDANT with column \"taster_name\n",
    "    => DROP\n",
    "    \n",
    "12) Column \"title\" : \n",
    "    => Name of the wine\n",
    "    => DROP  \n",
    "\n",
    "13) Column \"variety\" (=cepage)\n",
    "    => CATEGORICAL, no Nan\n",
    "\n",
    "14) Column \"winery\"\n",
    "    => CATEGORICAL, no Nan\n"
   ]
  },
  {
   "cell_type": "code",
   "execution_count": 13,
   "metadata": {
    "ExecuteTime": {
     "end_time": "2020-11-06T10:51:34.696478Z",
     "start_time": "2020-11-06T10:51:34.693436Z"
    }
   },
   "outputs": [],
   "source": [
    "def column_dropper(df, drop_col):\n",
    "    ''' df : pandas dataframe \n",
    "        drop_col : list of columns in df to drop\n",
    "        \n",
    "        return : dataframe\n",
    "    '''\n",
    "    return df.drop(drop_col,axis=1)\n",
    "    "
   ]
  },
  {
   "cell_type": "code",
   "execution_count": 14,
   "metadata": {
    "ExecuteTime": {
     "end_time": "2020-11-06T10:51:34.703796Z",
     "start_time": "2020-11-06T10:51:34.698870Z"
    }
   },
   "outputs": [],
   "source": [
    "def numeric_transformer(simple_imp_strat):\n",
    "    ''' Dealing with numerical columns\n",
    "        simple_imp_strat : strategy to apply on the simpleimputer\n",
    "        \n",
    "        return : pipeline with simpleimputer and standard scaler\n",
    "    '''\n",
    "    num_steps = [('imputer', SimpleImputer(strategy=simple_imp_strat,\n",
    "                                           missing_values=np.nan)),\n",
    "                 ('scaler', StandardScaler())]\n",
    "    num_pipe = Pipeline(steps=num_steps)\n",
    "    return num_pipe"
   ]
  },
  {
   "cell_type": "code",
   "execution_count": 15,
   "metadata": {
    "ExecuteTime": {
     "end_time": "2020-11-06T10:51:34.710581Z",
     "start_time": "2020-11-06T10:51:34.706525Z"
    }
   },
   "outputs": [],
   "source": [
    "def categorical_transformer(value_to_fill):\n",
    "    ''' Dealing with categorical columns\n",
    "        value_to_fill : value to fill on the simpleimputer (strategy = constant)\n",
    "        \n",
    "        return : pipeline with simpleimputer and onehotencoder\n",
    "    '''\n",
    "    cat_steps = [('imputer', SimpleImputer(strategy=\"constant\",\n",
    "                                           missing_values=np.nan,\n",
    "                                           fill_value=value_to_fill)),\n",
    "                 ('onehot', OneHotEncoder(#drop='first',\n",
    "                                          handle_unknown='ignore'))]\n",
    "    cat_pipe = Pipeline(steps=cat_steps)\n",
    "    return cat_pipe"
   ]
  },
  {
   "cell_type": "code",
   "execution_count": 16,
   "metadata": {
    "ExecuteTime": {
     "end_time": "2020-11-06T10:51:34.715480Z",
     "start_time": "2020-11-06T10:51:34.712599Z"
    }
   },
   "outputs": [],
   "source": [
    "# Columns definition for pipeline use\n",
    "\n",
    "#drop_col = ['index', 'Unnamed: 0', 'country', 'description', 'designation',\n",
    "            #'region_2','taster_twitter_handle', 'title']\n",
    "#target_col = ['points']\n",
    "\n",
    "num_col = ['price']\n",
    "cat_col_1 = ['province', 'variety', 'winery']\n",
    "cat_col_2 = ['region_1']\n"
   ]
  },
  {
   "cell_type": "code",
   "execution_count": 17,
   "metadata": {
    "ExecuteTime": {
     "end_time": "2020-11-06T10:51:34.722491Z",
     "start_time": "2020-11-06T10:51:34.717499Z"
    }
   },
   "outputs": [],
   "source": [
    "#X_train = column_dropper(X_train, drop_col)\n",
    "#X_test = column_dropper(X_test, drop_col)\n",
    "\n",
    "pipe_num = numeric_transformer('median')\n",
    "pipe_cat_1 = categorical_transformer('-')\n",
    "pipe_cat_2 = categorical_transformer('unknown')\n",
    "\n",
    "pipe_transformer = ColumnTransformer(transformers=[('num', pipe_num, num_col),\n",
    "                                                   ('cat_1', pipe_cat_1, cat_col_1),\n",
    "                                                   ('cat_2', pipe_cat_2, cat_col_2)\n",
    "                                                  ],\n",
    "                                     remainder='drop')\n"
   ]
  },
  {
   "cell_type": "code",
   "execution_count": 18,
   "metadata": {
    "ExecuteTime": {
     "end_time": "2020-11-06T10:51:34.787709Z",
     "start_time": "2020-11-06T10:51:34.727477Z"
    }
   },
   "outputs": [],
   "source": [
    "#pipe_transformer.fit(df.drop(\"points\", axis=1))\n",
    "\n",
    "X_train = pipe_transformer.fit_transform(X_train_init)\n",
    "X_test = pipe_transformer.transform(X_test_init)"
   ]
  },
  {
   "cell_type": "code",
   "execution_count": 19,
   "metadata": {
    "ExecuteTime": {
     "end_time": "2020-11-06T10:51:34.904977Z",
     "start_time": "2020-11-06T10:51:34.789976Z"
    }
   },
   "outputs": [
    {
     "name": "stdout",
     "output_type": "stream",
     "text": [
      "(3794, 4086)\n",
      "(15173, 4086)\n",
      "(3794,)\n",
      "(15173,)\n"
     ]
    }
   ],
   "source": [
    "print(X_test.toarray().shape)\n",
    "print(X_train.toarray().shape)\n",
    "print(y_test.shape)\n",
    "print(y_train.shape)\n",
    "\n",
    "\n"
   ]
  },
  {
   "cell_type": "markdown",
   "metadata": {},
   "source": [
    "# Save Data"
   ]
  },
  {
   "cell_type": "code",
   "execution_count": 20,
   "metadata": {
    "ExecuteTime": {
     "end_time": "2020-11-06T10:51:34.913619Z",
     "start_time": "2020-11-06T10:51:34.907166Z"
    }
   },
   "outputs": [],
   "source": [
    "import pickle\n",
    "\n",
    "with open (\"data/X_train.pkl\",\"wb\") as f:\n",
    "    pickle.dump(X_train, f)\n",
    "    \n",
    "with open (\"data/X_test.pkl\",\"wb\") as f:\n",
    "    pickle.dump(X_test, f)   \n",
    "    \n",
    "with open (\"data/y_train.pkl\",\"wb\") as f:\n",
    "    pickle.dump(y_train, f)\n",
    "\n",
    "with open (\"data/y_test.pkl\",\"wb\") as f:\n",
    "    pickle.dump(y_test, f)\n",
    "    \n",
    "    "
   ]
  },
  {
   "cell_type": "markdown",
   "metadata": {},
   "source": [
    "# Save Pipeline"
   ]
  },
  {
   "cell_type": "code",
   "execution_count": 21,
   "metadata": {
    "ExecuteTime": {
     "end_time": "2020-11-06T10:51:34.919561Z",
     "start_time": "2020-11-06T10:51:34.915510Z"
    }
   },
   "outputs": [],
   "source": [
    "with open (\"models/data_preparation_pipe.pkl\",\"wb\") as f:\n",
    "    pickle.dump(pipe_transformer, f)"
   ]
  },
  {
   "cell_type": "code",
   "execution_count": null,
   "metadata": {},
   "outputs": [],
   "source": []
  },
  {
   "cell_type": "code",
   "execution_count": null,
   "metadata": {},
   "outputs": [],
   "source": []
  },
  {
   "cell_type": "markdown",
   "metadata": {},
   "source": [
    "# Pipeline Test / Draft"
   ]
  },
  {
   "cell_type": "code",
   "execution_count": null,
   "metadata": {},
   "outputs": [],
   "source": []
  },
  {
   "cell_type": "code",
   "execution_count": 22,
   "metadata": {
    "ExecuteTime": {
     "end_time": "2020-11-06T10:51:34.927855Z",
     "start_time": "2020-11-06T10:51:34.921554Z"
    }
   },
   "outputs": [],
   "source": [
    "#valeur à tester\n",
    "\n",
    "X_test_init = X_test_init.reset_index()\n",
    "X_test_init = X_test_init.drop(\"index\", axis=1)\n",
    "\n",
    "def data_test(nb):\n",
    "    index = sample(list(X_test_init.index), nb)\n",
    "    for nombre in index:\n",
    "        liste_X = list(X_test_init.iloc[nombre,:].values)\n",
    "        liste_y = [int(y_test.iloc[nombre])]\n",
    "        print(liste_X + liste_y)\n",
    "        "
   ]
  },
  {
   "cell_type": "code",
   "execution_count": 23,
   "metadata": {
    "ExecuteTime": {
     "end_time": "2020-11-06T10:51:34.933377Z",
     "start_time": "2020-11-06T10:51:34.929356Z"
    }
   },
   "outputs": [
    {
     "name": "stdout",
     "output_type": "stream",
     "text": [
      "[60.0, 'Bordeaux', 'Bordeaux-style Red Blend', 'Château Giscours', 'Margaux', 94]\n",
      "[16.0, 'Loire Valley', 'Sauvignon Blanc', 'Domaine des Pierrettes', 'Touraine', 88]\n",
      "[nan, 'Beaujolais', 'Gamay', 'Georges Duboeuf', 'Chénas', 84]\n"
     ]
    }
   ],
   "source": [
    "data_test(3)\n"
   ]
  },
  {
   "cell_type": "code",
   "execution_count": null,
   "metadata": {},
   "outputs": [],
   "source": []
  },
  {
   "cell_type": "code",
   "execution_count": null,
   "metadata": {},
   "outputs": [],
   "source": []
  }
 ],
 "metadata": {
  "hide_input": false,
  "kernelspec": {
   "display_name": "Python 3",
   "language": "python",
   "name": "python3"
  },
  "language_info": {
   "codemirror_mode": {
    "name": "ipython",
    "version": 3
   },
   "file_extension": ".py",
   "mimetype": "text/x-python",
   "name": "python",
   "nbconvert_exporter": "python",
   "pygments_lexer": "ipython3",
   "version": "3.7.6"
  },
  "toc": {
   "base_numbering": 1,
   "nav_menu": {},
   "number_sections": true,
   "sideBar": true,
   "skip_h1_title": false,
   "title_cell": "Table of Contents",
   "title_sidebar": "Contents",
   "toc_cell": false,
   "toc_position": {},
   "toc_section_display": true,
   "toc_window_display": false
  }
 },
 "nbformat": 4,
 "nbformat_minor": 2
}
